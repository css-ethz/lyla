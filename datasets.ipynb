{
 "cells": [
  {
   "cell_type": "code",
   "execution_count": 1,
   "id": "71c65f9c",
   "metadata": {
    "ExecuteTime": {
     "end_time": "2022-12-12T11:57:46.340311Z",
     "start_time": "2022-12-12T11:57:46.039033Z"
    }
   },
   "outputs": [],
   "source": [
    "import pandas as pd\n",
    "import json"
   ]
  },
  {
   "cell_type": "markdown",
   "id": "b7962d09",
   "metadata": {},
   "source": [
    " ### Data loading"
   ]
  },
  {
   "cell_type": "code",
   "execution_count": null,
   "id": "47285a04",
   "metadata": {},
   "outputs": [],
   "source": [
    "data = pd.read_excel(\"../Downloads/LYLA 2022-9-21_latest.xlsx\")\n",
    "data = data[(data[\"ly_yr\"] >=2010) & (data[\"ly_yr\"]<=2019)]"
   ]
  },
  {
   "cell_type": "code",
   "execution_count": 22,
   "id": "8ef8bbf9",
   "metadata": {
    "ExecuteTime": {
     "end_time": "2022-12-12T12:03:49.556050Z",
     "start_time": "2022-12-12T12:03:49.546443Z"
    }
   },
   "outputs": [],
   "source": [
    "class AttributeDict(dict):\n",
    "    __getattr__ = dict.__getitem__\n",
    "    __setattr__ = dict.__setitem__\n",
    "    __delattr__ = dict.__delitem__"
   ]
  },
  {
   "cell_type": "markdown",
   "id": "76ec0e4c",
   "metadata": {},
   "source": [
    "### List of special events with their corresponding header"
   ]
  },
  {
   "cell_type": "code",
   "execution_count": 23,
   "id": "8ed1536f",
   "metadata": {
    "ExecuteTime": {
     "end_time": "2022-12-12T12:03:53.021754Z",
     "start_time": "2022-12-12T12:03:53.006266Z"
    }
   },
   "outputs": [],
   "source": [
    "ids = [2002, 715,1357,555,2398,2110,2249,2322,2498,2631,2303]\n",
    "links = [\"https://www.lainformacion.com/mundo/linchan-a-un-alcalde-en-guatemala-acusado-de-atacar-a-su-rival-politico_PBooZmlricaLMs8Wr1LeH/\",\n",
    "\"https://www.jornada.com.mx/2004/11/24/042n3cap.php\",\n",
    "\"https://cnnespanol.cnn.com/2015/10/21/pobladores-linchan-a-encuestadores-tras-confundirlos-con-secuestradores/\",\n",
    "\"https://www.eltiempo.com/justicia/investigacion/la-historia-detras-del-hombre-que-fue-linchado-en-bogota-por-una-falsa-noticia-289508\",\n",
    "\"https://www.opinion.com.bo/articulo/policial/matan-pedradas-j-oacute-venes-acusados-cometer-robo/20181121112600633260.html\",\n",
    "\"https://www.clarin.com/policiales/linchamiento-rosario-imputados-declaro-culpable-ira-preso_0_JZXHTCR.html\",\n",
    "\"https://www.cronica.com.ar/policiales/Presunto-ladron-habria-sido-linchado-por-fieles-que-recordaban-Semana-Santa-20190420-0020.html\",\n",
    "\"https://www.abc.es/internacional/20131109/abci-linchamientos-convierten-bolivia-pais-201311081733.html\",\n",
    "\"https://www.elcaribe.com.do/sin-categoria/linchamientos-comienzan-ser-comunes-barriadas/\",\n",
    "\"https://elcomercio.pe/peru/puno/juliaca-establecido-castigo-popular-324709-noticia/\",\n",
    "\"https://www.premiosgoya.com/pelicula/tribus-de-la-inquisicion/\"]\n",
    "\n",
    "headers = [\"\\\"Linchan a un alcalde en Guatemala, acusado de atacar a su rival político\\\"\",\n",
    "          \"Turba quema vivos a dos agentes de la PFP; otro en estado grave\",\n",
    "          \"Pobladores linchan a encuestadores tras confundirlos con secuestradores\",\n",
    "          \"La verdadera historia del hombre linchado por falsa noticia en redes\",\n",
    "          \"Matan a pedradas a dos jóvenes acusados de cometer robo\",\n",
    "          \"Linchamiento en Rosario: uno de los tres imputados se declaró culpable y no irá preso\",\n",
    "          \"Presunto ladrón habría sido linchado por fieles que recordaban Semana Santa\",\n",
    "          \"Los linchamientos convierten a Bolivia en un país con pena de muerte de facto\",\n",
    "          \"Linchamientos comienzan a ser comunes en barriadas\",\n",
    "          \"En Juliaca se ha establecido el castigo popular\",\n",
    "          \"Tribus de la Inquisición\"\n",
    "          ]\n",
    "\n",
    "\n",
    "id_link_dict = {key:value for (key,value) in zip(ids,links)}\n",
    "\n",
    "id_header_dict = {key:value for (key,value) in zip(ids,headers)}\n",
    "\n",
    "\n",
    "\n",
    "\n"
   ]
  },
  {
   "cell_type": "code",
   "execution_count": 24,
   "id": "34ce98c0",
   "metadata": {
    "ExecuteTime": {
     "end_time": "2022-12-12T12:03:56.528557Z",
     "start_time": "2022-12-12T12:03:56.503684Z"
    }
   },
   "outputs": [
    {
     "data": {
      "text/plain": [
       "{2002: 'https://www.lainformacion.com/mundo/linchan-a-un-alcalde-en-guatemala-acusado-de-atacar-a-su-rival-politico_PBooZmlricaLMs8Wr1LeH/',\n",
       " 715: 'https://www.jornada.com.mx/2004/11/24/042n3cap.php',\n",
       " 1357: 'https://cnnespanol.cnn.com/2015/10/21/pobladores-linchan-a-encuestadores-tras-confundirlos-con-secuestradores/',\n",
       " 555: 'https://www.eltiempo.com/justicia/investigacion/la-historia-detras-del-hombre-que-fue-linchado-en-bogota-por-una-falsa-noticia-289508',\n",
       " 2398: 'https://www.opinion.com.bo/articulo/policial/matan-pedradas-j-oacute-venes-acusados-cometer-robo/20181121112600633260.html',\n",
       " 2110: 'https://www.clarin.com/policiales/linchamiento-rosario-imputados-declaro-culpable-ira-preso_0_JZXHTCR.html',\n",
       " 2249: 'https://www.cronica.com.ar/policiales/Presunto-ladron-habria-sido-linchado-por-fieles-que-recordaban-Semana-Santa-20190420-0020.html',\n",
       " 2322: 'https://www.abc.es/internacional/20131109/abci-linchamientos-convierten-bolivia-pais-201311081733.html',\n",
       " 2498: 'https://www.elcaribe.com.do/sin-categoria/linchamientos-comienzan-ser-comunes-barriadas/',\n",
       " 2631: 'https://elcomercio.pe/peru/puno/juliaca-establecido-castigo-popular-324709-noticia/',\n",
       " 2303: 'https://www.premiosgoya.com/pelicula/tribus-de-la-inquisicion/'}"
      ]
     },
     "execution_count": 24,
     "metadata": {},
     "output_type": "execute_result"
    }
   ],
   "source": [
    "id_link_dict"
   ]
  },
  {
   "cell_type": "markdown",
   "id": "686db1bf",
   "metadata": {},
   "source": [
    "**Function for adding new variables needed for plotting events on the map in web app.**"
   ]
  },
  {
   "cell_type": "code",
   "execution_count": 25,
   "id": "8903f5a7",
   "metadata": {
    "ExecuteTime": {
     "end_time": "2022-12-12T12:04:00.312276Z",
     "start_time": "2022-12-12T12:04:00.282172Z"
    }
   },
   "outputs": [],
   "source": [
    "\n",
    "def map_to_obj(i, item):\n",
    "    if int(item.id) in [2002, 715,1357,555,2398,2110,2249,2322,2498,2631]:\n",
    "        item.press_article = \"true\"\n",
    "        item.link = id_link_dict[int(item.id)]\n",
    "        item.header = id_header_dict[int(item.id)]\n",
    "    else:\n",
    "        item.press_article = \"false\"\n",
    "        item.link = \"null\"\n",
    "        item.header = \"null\"\n",
    "    item.geometry = item.geom[0]\n",
    "    list_coords = item.geom[0]['coordinates'].replace(\" \", \"\").replace('\\'',\"\").split(',')\n",
    "    if len(list_coords) > 2:\n",
    "        list_coords = list_coords[:2]\n",
    "    item.geometry['coordinates'] = [float(s) for s in list_coords]\n",
    "    item.pop('geom', None)\n",
    "    item.date = item.date.strftime('%Y-%m-%d')\n",
    "    return item\n"
   ]
  },
  {
   "cell_type": "code",
   "execution_count": 26,
   "id": "255ac972",
   "metadata": {
    "ExecuteTime": {
     "end_time": "2022-12-12T12:04:05.948078Z",
     "start_time": "2022-12-12T12:04:05.936670Z"
    }
   },
   "outputs": [],
   "source": [
    "def table_to_json(file: str):\n",
    "    data = pd.read_excel(file)\n",
    "\n",
    "    print(f'Reading {len(data)} rows and {len(data.columns)} columns')\n",
    "    data[\"type\"] = [\"Point\"]*len(data)\n",
    "\n",
    "    j = (data.groupby(['id','tar1_sex','name_0', 'name_1', 'tar1_age','pe_violence','st_outcome', 'tar_outcome', 'evidence1_text', 'evidence1_source', 'tar_wrongdoing', 'date'], dropna=False)\n",
    "           .apply(lambda x: x[['type','coordinates']].to_dict('records'))\n",
    "           .reset_index()\n",
    "           .rename(columns={0:'geom'})\n",
    "           .to_dict(orient='records'))\n",
    "\n",
    "    dict_data = [AttributeDict(i) for i in j]\n",
    "\n",
    "    json_data = [x for x in (map_to_obj(v) for v in dict_data) if x]\n",
    "    return json_data\n"
   ]
  },
  {
   "cell_type": "code",
   "execution_count": 30,
   "id": "07553549",
   "metadata": {
    "ExecuteTime": {
     "end_time": "2022-12-12T12:06:37.169558Z",
     "start_time": "2022-12-12T12:06:37.152055Z"
    }
   },
   "outputs": [
    {
     "name": "stdout",
     "output_type": "stream",
     "text": [
      "Reading 2818 rows and 122 columns\n"
     ]
    }
   ],
   "source": [
    "print(f'Reading {len(data)} rows and {len(data.columns)} columns')\n",
    "data[\"type\"] = [\"Point\"]*len(data)\n",
    "end = pd.to_datetime('2023-12-31')\n",
    "data[\"date\"] = data[\"date\"].fillna(end)"
   ]
  },
  {
   "cell_type": "code",
   "execution_count": 32,
   "id": "b62f905e",
   "metadata": {
    "ExecuteTime": {
     "end_time": "2022-12-12T12:06:46.573036Z",
     "start_time": "2022-12-12T12:06:46.552773Z"
    }
   },
   "outputs": [],
   "source": [
    "j = (data.groupby(['id','name_0', 'name_1', 'tar1_age','tar1_sex','pe_violence','st_outcome', 'tar_outcome', 'evidence1_text', 'evidence1_source', 'tar_wrongdoing','pe_approxnumber', 'date'], dropna=False)\n",
    "           .apply(lambda x: x[['type','coordinates']].to_dict('records'))\n",
    "           .reset_index()\n",
    "           .rename(columns={0:'geom'})\n",
    "           .to_dict(orient='records'))\n",
    "dict_data = [AttributeDict(i) for i in j]\n",
    "dict_data"
   ]
  },
  {
   "cell_type": "code",
   "execution_count": null,
   "id": "0f0b51b4",
   "metadata": {
    "ExecuteTime": {
     "end_time": "2022-12-12T12:06:52.048410Z",
     "start_time": "2022-12-12T12:06:51.789743Z"
    }
   },
   "outputs": [],
   "source": [
    "json_data = [x for x in (map_to_obj(i, v) for i, v in enumerate(dict_data)) if x]"
   ]
  },
  {
   "cell_type": "code",
   "execution_count": 50,
   "id": "693c9a5a",
   "metadata": {
    "ExecuteTime": {
     "end_time": "2022-11-10T23:06:05.530475Z",
     "start_time": "2022-11-10T23:06:05.514474Z"
    }
   },
   "outputs": [
    {
     "data": {
      "text/plain": [
       "[{'id': 2,\n",
       "  'name_0': 'Brazil',\n",
       "  'name_1': 'Rio de Janeiro',\n",
       "  'tar1_age': 2.0,\n",
       "  'tar1_sex': 1.0,\n",
       "  'pe_violence': nan,\n",
       "  'st_outcome': 1.0,\n",
       "  'tar_outcome': nan,\n",
       "  'evidence1_text': 'Policiais do 16o BPM (Olaria) prenderam quatro bandidos, acusados de aterrorizar e fazer um arrastão, na manhã de ontem, na Avenida Meriti, na Vila da Penha. Wesley Estevão, de 23 anos, Carlos de Paula, de 28, e os irmãos Daniel e Mawuell Silva, de 25 e 28. Eles teriam roubado um carro. Os policiais impediram o linchamento de dois deles por parte de moradores.',\n",
       "  'evidence1_source': 'O Globo',\n",
       "  'tar_wrongdoing': 1.0,\n",
       "  'pe_approxnumber': 1.0,\n",
       "  'date': '2010-01-24',\n",
       "  'press_article': 'false',\n",
       "  'link': 'null',\n",
       "  'header': 'null',\n",
       "  'geometry': {'type': 'Point', 'coordinates': [-22.843558, -43.313145]}},\n",
       " {'id': 4,\n",
       "  'name_0': 'Brazil',\n",
       "  'name_1': 'São Paulo',\n",
       "  'tar1_age': nan,\n",
       "  'tar1_sex': 1.0,\n",
       "  'pe_violence': 1.0,\n",
       "  'st_outcome': 1.0,\n",
       "  'tar_outcome': 2.0,\n",
       "  'evidence1_text': ' Alguns da comunidade de Lauzane Paulista, bairro de inspiração suíça próximo do Imirim, o têm em conta negativa. Chegaram a amarrá-lo certa vez numa árvore, para cada um dar sua contribuição ao linchamento. Foi salvo pela polícia.  O crack deteriorou o que sobrava nele de interatividade sadia. Passou a sumir de casa e a surrupiar furadeira, DVD, aparelho de som, o que lhe parecesse moeda de troca. ',\n",
       "  'evidence1_source': 'Estadao',\n",
       "  'tar_wrongdoing': nan,\n",
       "  'pe_approxnumber': nan,\n",
       "  'date': '2010-02-27',\n",
       "  'press_article': 'false',\n",
       "  'link': 'null',\n",
       "  'header': 'null',\n",
       "  'geometry': {'type': 'Point', 'coordinates': [-23.478292, -46.644756]}},\n",
       " {'id': 5,\n",
       "  'name_0': 'Brazil',\n",
       "  'name_1': 'Pará',\n",
       "  'tar1_age': nan,\n",
       "  'tar1_sex': 1.0,\n",
       "  'pe_violence': 3.0,\n",
       "  'st_outcome': 1.0,\n",
       "  'tar_outcome': nan,\n",
       "  'evidence1_text': 'Una multitud enfurecida que quería linchar a un sospechoso de asesinato mató a balazos a dos policías, hirió a otros cinco, destruyó siete patrulleros y quemó por completo un cuartel policial en el norte de Brasil, dijeron funcionarios locales.',\n",
       "  'evidence1_source': 'Associated Press',\n",
       "  'tar_wrongdoing': 3.0,\n",
       "  'pe_approxnumber': 3.0,\n",
       "  'date': '2010-03-08',\n",
       "  'press_article': 'false',\n",
       "  'link': 'null',\n",
       "  'header': 'null',\n",
       "  'geometry': {'type': 'Point', 'coordinates': [-1.372924, -48.45244]}},\n",
       " {'id': 6,\n",
       "  'name_0': 'Brazil',\n",
       "  'name_1': 'São Paulo',\n",
       "  'tar1_age': 3.0,\n",
       "  'tar1_sex': 1.0,\n",
       "  'pe_violence': 1.0,\n",
       "  'st_outcome': 1.0,\n",
       "  'tar_outcome': 2.0,\n",
       "  'evidence1_text': 'Em depoimento, o rapaz contou que o acusado aparentava embriaguez e estava bem agressivo. Os passageiros que estavam no micro-ônibus tentaram linchar o homem. O tumulto só foi contido quando guardas civis metropolitanos interceptaram o veículo e deram proteção ao passageiro que chegou a ser ferido no rosto com socos e pontapés.',\n",
       "  'evidence1_source': 'Jornal da Tarde',\n",
       "  'tar_wrongdoing': 7.0,\n",
       "  'pe_approxnumber': nan,\n",
       "  'date': '2010-03-11',\n",
       "  'press_article': 'false',\n",
       "  'link': 'null',\n",
       "  'header': 'null',\n",
       "  'geometry': {'type': 'Point', 'coordinates': [-23.520533, -46.700787]}},\n",
       " {'id': 7,\n",
       "  'name_0': 'Brazil',\n",
       "  'name_1': 'Alagoas',\n",
       "  'tar1_age': nan,\n",
       "  'tar1_sex': 1.0,\n",
       "  'pe_violence': 0.0,\n",
       "  'st_outcome': 1.0,\n",
       "  'tar_outcome': 3.0,\n",
       "  'evidence1_text': 'Cerca de 40 presos realizaram uma rebelião e destruíram no final de semana a delegacia municipal de Santana do Ipanema, no sertão alagoano, a 204 quilômetros de Maceió. Revoltados por não conseguirem linchar um preso identificado por \"Ratinho\", que estava isolado em uma das celas do prédio, os detentos destruíram seis celas da delegacia.',\n",
       "  'evidence1_source': 'Agencia Esatdo',\n",
       "  'tar_wrongdoing': nan,\n",
       "  'pe_approxnumber': 2.0,\n",
       "  'date': '2010-03-14',\n",
       "  'press_article': 'false',\n",
       "  'link': 'null',\n",
       "  'header': 'null',\n",
       "  'geometry': {'type': 'Point', 'coordinates': [-9.371932, -37.240866]}}]"
      ]
     },
     "execution_count": 50,
     "metadata": {},
     "output_type": "execute_result"
    }
   ],
   "source": [
    "json_data[:5]"
   ]
  },
  {
   "cell_type": "code",
   "execution_count": 35,
   "id": "9fb33477",
   "metadata": {
    "ExecuteTime": {
     "end_time": "2022-12-12T12:07:15.114690Z",
     "start_time": "2022-12-12T12:07:14.993883Z"
    }
   },
   "outputs": [],
   "source": [
    "\n",
    "with open(\"events_data.json\", \"w\") as f:\n",
    "    json.dump(json_data, f, indent=4, ensure_ascii=False)"
   ]
  },
  {
   "cell_type": "markdown",
   "id": "73f750f8",
   "metadata": {},
   "source": [
    "## Convert original dataset to json file"
   ]
  },
  {
   "cell_type": "markdown",
   "id": "eca8dd51",
   "metadata": {},
   "source": [
    "**This is the dataset that can be downloaded in the web application.**"
   ]
  },
  {
   "cell_type": "code",
   "execution_count": 16,
   "id": "24835b31",
   "metadata": {
    "ExecuteTime": {
     "end_time": "2022-12-08T13:43:33.836643Z",
     "start_time": "2022-12-08T13:43:30.101049Z"
    }
   },
   "outputs": [
    {
     "data": {
      "text/html": [
       "<div>\n",
       "<style scoped>\n",
       "    .dataframe tbody tr th:only-of-type {\n",
       "        vertical-align: middle;\n",
       "    }\n",
       "\n",
       "    .dataframe tbody tr th {\n",
       "        vertical-align: top;\n",
       "    }\n",
       "\n",
       "    .dataframe thead th {\n",
       "        text-align: right;\n",
       "    }\n",
       "</style>\n",
       "<table border=\"1\" class=\"dataframe\">\n",
       "  <thead>\n",
       "    <tr style=\"text-align: right;\">\n",
       "      <th></th>\n",
       "      <th>coder</th>\n",
       "      <th>id</th>\n",
       "      <th>cc</th>\n",
       "      <th>name_0</th>\n",
       "      <th>name_1</th>\n",
       "      <th>name_local</th>\n",
       "      <th>cve</th>\n",
       "      <th>cve_ent</th>\n",
       "      <th>cve_mun</th>\n",
       "      <th>alcaldia</th>\n",
       "      <th>...</th>\n",
       "      <th>evidence1_day</th>\n",
       "      <th>evidence1_month</th>\n",
       "      <th>evidence1_year</th>\n",
       "      <th>evidence2_text</th>\n",
       "      <th>evidence2_source</th>\n",
       "      <th>evidence2_date</th>\n",
       "      <th>evidence2_day</th>\n",
       "      <th>evidence2_month</th>\n",
       "      <th>evidence2_year</th>\n",
       "      <th>longcodebook</th>\n",
       "    </tr>\n",
       "  </thead>\n",
       "  <tbody>\n",
       "    <tr>\n",
       "      <th>0</th>\n",
       "      <td>AB</td>\n",
       "      <td>654</td>\n",
       "      <td>70</td>\n",
       "      <td>Mexico</td>\n",
       "      <td>Oaxaca</td>\n",
       "      <td>Santiago Astata</td>\n",
       "      <td>20453.0</td>\n",
       "      <td>20.0</td>\n",
       "      <td>453.0</td>\n",
       "      <td>NaN</td>\n",
       "      <td>...</td>\n",
       "      <td>6</td>\n",
       "      <td>1</td>\n",
       "      <td>2000</td>\n",
       "      <td>Después de permanecer atados a un poste durant...</td>\n",
       "      <td>Servicio Universal de noticias</td>\n",
       "      <td>2000-01-07</td>\n",
       "      <td>7.0</td>\n",
       "      <td>1.0</td>\n",
       "      <td>2000.0</td>\n",
       "      <td>1</td>\n",
       "    </tr>\n",
       "    <tr>\n",
       "      <th>1</th>\n",
       "      <td>AB</td>\n",
       "      <td>655</td>\n",
       "      <td>70</td>\n",
       "      <td>Mexico</td>\n",
       "      <td>México</td>\n",
       "      <td>Fundidores (mercado 3 de junio)</td>\n",
       "      <td>15031.0</td>\n",
       "      <td>15.0</td>\n",
       "      <td>31.0</td>\n",
       "      <td>NaN</td>\n",
       "      <td>...</td>\n",
       "      <td>1</td>\n",
       "      <td>3</td>\n",
       "      <td>2000</td>\n",
       "      <td>NaN</td>\n",
       "      <td>NaN</td>\n",
       "      <td>NaT</td>\n",
       "      <td>NaN</td>\n",
       "      <td>NaN</td>\n",
       "      <td>NaN</td>\n",
       "      <td>1</td>\n",
       "    </tr>\n",
       "    <tr>\n",
       "      <th>2</th>\n",
       "      <td>AB</td>\n",
       "      <td>656</td>\n",
       "      <td>70</td>\n",
       "      <td>Mexico</td>\n",
       "      <td>Distrito Federal</td>\n",
       "      <td>Barrio la Joya</td>\n",
       "      <td>9005.0</td>\n",
       "      <td>9.0</td>\n",
       "      <td>5.0</td>\n",
       "      <td>GUSTAVO A. MADERO</td>\n",
       "      <td>...</td>\n",
       "      <td>28</td>\n",
       "      <td>3</td>\n",
       "      <td>2000</td>\n",
       "      <td>NaN</td>\n",
       "      <td>NaN</td>\n",
       "      <td>NaT</td>\n",
       "      <td>NaN</td>\n",
       "      <td>NaN</td>\n",
       "      <td>NaN</td>\n",
       "      <td>1</td>\n",
       "    </tr>\n",
       "    <tr>\n",
       "      <th>3</th>\n",
       "      <td>AB</td>\n",
       "      <td>657</td>\n",
       "      <td>70</td>\n",
       "      <td>Mexico</td>\n",
       "      <td>Puebla</td>\n",
       "      <td>Ayoxuxtla</td>\n",
       "      <td>21073.0</td>\n",
       "      <td>21.0</td>\n",
       "      <td>73.0</td>\n",
       "      <td>NaN</td>\n",
       "      <td>...</td>\n",
       "      <td>3</td>\n",
       "      <td>4</td>\n",
       "      <td>2000</td>\n",
       "      <td>Las autoridades tuvieron que intervenir para e...</td>\n",
       "      <td>Servicio Universal de noticias</td>\n",
       "      <td>2000-04-03</td>\n",
       "      <td>3.0</td>\n",
       "      <td>4.0</td>\n",
       "      <td>2000.0</td>\n",
       "      <td>1</td>\n",
       "    </tr>\n",
       "    <tr>\n",
       "      <th>4</th>\n",
       "      <td>AB</td>\n",
       "      <td>658</td>\n",
       "      <td>70</td>\n",
       "      <td>Mexico</td>\n",
       "      <td>Chiapas</td>\n",
       "      <td>Las Margaritas</td>\n",
       "      <td>7052.0</td>\n",
       "      <td>7.0</td>\n",
       "      <td>52.0</td>\n",
       "      <td>NaN</td>\n",
       "      <td>...</td>\n",
       "      <td>13</td>\n",
       "      <td>5</td>\n",
       "      <td>2000</td>\n",
       "      <td>NaN</td>\n",
       "      <td>NaN</td>\n",
       "      <td>NaT</td>\n",
       "      <td>NaN</td>\n",
       "      <td>NaN</td>\n",
       "      <td>NaN</td>\n",
       "      <td>1</td>\n",
       "    </tr>\n",
       "  </tbody>\n",
       "</table>\n",
       "<p>5 rows × 122 columns</p>\n",
       "</div>"
      ],
      "text/plain": [
       "  coder   id  cc  name_0            name_1                       name_local  \\\n",
       "0    AB  654  70  Mexico            Oaxaca                  Santiago Astata   \n",
       "1    AB  655  70  Mexico            México  Fundidores (mercado 3 de junio)   \n",
       "2    AB  656  70  Mexico  Distrito Federal                   Barrio la Joya   \n",
       "3    AB  657  70  Mexico            Puebla                        Ayoxuxtla   \n",
       "4    AB  658  70  Mexico           Chiapas                   Las Margaritas   \n",
       "\n",
       "       cve  cve_ent  cve_mun           alcaldia  ... evidence1_day  \\\n",
       "0  20453.0     20.0    453.0                NaN  ...             6   \n",
       "1  15031.0     15.0     31.0                NaN  ...             1   \n",
       "2   9005.0      9.0      5.0  GUSTAVO A. MADERO  ...            28   \n",
       "3  21073.0     21.0     73.0                NaN  ...             3   \n",
       "4   7052.0      7.0     52.0                NaN  ...            13   \n",
       "\n",
       "   evidence1_month evidence1_year  \\\n",
       "0                1           2000   \n",
       "1                3           2000   \n",
       "2                3           2000   \n",
       "3                4           2000   \n",
       "4                5           2000   \n",
       "\n",
       "                                      evidence2_text  \\\n",
       "0  Después de permanecer atados a un poste durant...   \n",
       "1                                                NaN   \n",
       "2                                                NaN   \n",
       "3  Las autoridades tuvieron que intervenir para e...   \n",
       "4                                                NaN   \n",
       "\n",
       "                 evidence2_source  evidence2_date  evidence2_day  \\\n",
       "0  Servicio Universal de noticias      2000-01-07            7.0   \n",
       "1                             NaN             NaT            NaN   \n",
       "2                             NaN             NaT            NaN   \n",
       "3  Servicio Universal de noticias      2000-04-03            3.0   \n",
       "4                             NaN             NaT            NaN   \n",
       "\n",
       "  evidence2_month  evidence2_year  longcodebook  \n",
       "0             1.0          2000.0             1  \n",
       "1             NaN             NaN             1  \n",
       "2             NaN             NaN             1  \n",
       "3             4.0          2000.0             1  \n",
       "4             NaN             NaN             1  \n",
       "\n",
       "[5 rows x 122 columns]"
      ]
     },
     "execution_count": 16,
     "metadata": {},
     "output_type": "execute_result"
    }
   ],
   "source": [
    "data_orig = pd.read_excel(\"../Downloads/LYLA 2022-9-21_latest.xlsx\")\n",
    "data_orig.head()\n"
   ]
  },
  {
   "cell_type": "code",
   "execution_count": 19,
   "id": "5a5f4b3e",
   "metadata": {
    "ExecuteTime": {
     "end_time": "2022-12-08T13:44:03.942536Z",
     "start_time": "2022-12-08T13:44:03.748647Z"
    }
   },
   "outputs": [],
   "source": [
    "end = pd.to_datetime('2023-12-31')\n",
    "\n",
    "data_orig[\"date\"] = data_orig[\"date\"].fillna(end)\n",
    "data_orig[\"yearmonth\"] = data_orig[\"yearmonth\"].fillna(end)\n",
    "data_orig[\"evidence1_date\"] = data_orig[\"evidence1_date\"].fillna(end) # events without date are filled with 2023-12-31\n",
    "data_orig[\"evidence2_date\"] = data_orig[\"evidence2_date\"].fillna(end)\n",
    "\n",
    "df_dict = (data_orig.to_dict(orient='records'))"
   ]
  },
  {
   "cell_type": "code",
   "execution_count": 20,
   "id": "0b6cb4ef",
   "metadata": {
    "ExecuteTime": {
     "end_time": "2022-12-08T13:44:05.306387Z",
     "start_time": "2022-12-08T13:44:05.238095Z"
    }
   },
   "outputs": [],
   "source": [
    "df_dict\n",
    "\n",
    "def map_to_obj(i, item):\n",
    "    \n",
    "   \n",
    "    item[\"date\"] = item[\"date\"].strftime('%Y-%m-%d')\n",
    "    item[\"yearmonth\"] = item[\"yearmonth\"].strftime('%Y-%m-%d')\n",
    "    item['evidence1_date'] =item['evidence1_date'].strftime('%Y-%m-%d')\n",
    "    item['evidence2_date'] =item['evidence2_date'].strftime('%Y-%m-%d')\n",
    "    return item\n",
    "\n",
    "df_dict = [map_to_obj(i,item) for i, item in enumerate(df_dict)]"
   ]
  },
  {
   "cell_type": "markdown",
   "id": "85e2ce92",
   "metadata": {},
   "source": [
    "#### Save json file"
   ]
  },
  {
   "cell_type": "code",
   "execution_count": 22,
   "id": "1c868bff",
   "metadata": {
    "ExecuteTime": {
     "end_time": "2022-12-08T13:44:27.396895Z",
     "start_time": "2022-12-08T13:44:26.945566Z"
    }
   },
   "outputs": [],
   "source": [
    "with open(\"LYLA_2022-9-21_latest.json\", \"w\") as f:\n",
    "    json.dump(df_dict, f, indent=4, ensure_ascii=False)"
   ]
  }
 ],
 "metadata": {
  "kernelspec": {
   "display_name": "Python 3 (ipykernel)",
   "language": "python",
   "name": "python3"
  },
  "language_info": {
   "codemirror_mode": {
    "name": "ipython",
    "version": 3
   },
   "file_extension": ".py",
   "mimetype": "text/x-python",
   "name": "python",
   "nbconvert_exporter": "python",
   "pygments_lexer": "ipython3",
   "version": "3.9.12"
  },
  "latex_envs": {
   "LaTeX_envs_menu_present": true,
   "autoclose": false,
   "autocomplete": true,
   "bibliofile": "biblio.bib",
   "cite_by": "apalike",
   "current_citInitial": 1,
   "eqLabelWithNumbers": true,
   "eqNumInitial": 1,
   "hotkeys": {
    "equation": "Ctrl-E",
    "itemize": "Ctrl-I"
   },
   "labels_anchors": false,
   "latex_user_defs": false,
   "report_style_numbering": false,
   "user_envs_cfg": false
  },
  "toc": {
   "base_numbering": 1,
   "nav_menu": {},
   "number_sections": true,
   "sideBar": true,
   "skip_h1_title": false,
   "title_cell": "Table of Contents",
   "title_sidebar": "Contents",
   "toc_cell": false,
   "toc_position": {},
   "toc_section_display": true,
   "toc_window_display": false
  },
  "varInspector": {
   "cols": {
    "lenName": 16,
    "lenType": 16,
    "lenVar": 40
   },
   "kernels_config": {
    "python": {
     "delete_cmd_postfix": "",
     "delete_cmd_prefix": "del ",
     "library": "var_list.py",
     "varRefreshCmd": "print(var_dic_list())"
    },
    "r": {
     "delete_cmd_postfix": ") ",
     "delete_cmd_prefix": "rm(",
     "library": "var_list.r",
     "varRefreshCmd": "cat(var_dic_list()) "
    }
   },
   "types_to_exclude": [
    "module",
    "function",
    "builtin_function_or_method",
    "instance",
    "_Feature"
   ],
   "window_display": false
  }
 },
 "nbformat": 4,
 "nbformat_minor": 5
}
