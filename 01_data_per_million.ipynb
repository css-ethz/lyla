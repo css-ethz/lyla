{
 "cells": [
  {
   "cell_type": "markdown",
   "id": "0250ab8d",
   "metadata": {},
   "source": [
    "## Process population and reported cases files and gets data per million inhabitants\n",
    "- Files produced: \n",
    "- Cases per million inhabitants by variable and date\n",
    "- Population by country"
   ]
  },
  {
   "cell_type": "code",
   "execution_count": 1,
   "id": "7999ef9d",
   "metadata": {},
   "outputs": [],
   "source": [
    "import pandas as pd\n",
    "import numpy as np"
   ]
  },
  {
   "cell_type": "code",
   "execution_count": 2,
   "id": "3c8b2351",
   "metadata": {},
   "outputs": [],
   "source": [
    "def process_data(data,population):\n",
    "\n",
    "    population_admin=population.groupby(['NAME_0','NAME_1']).Population_mean.sum().reset_index().rename(columns={'NAME_0':'name_0','NAME_1':'name_1'})\n",
    "\n",
    "    data['year']=data.ly_yr.apply(str)\n",
    "    data=data.loc[~data.ly_month.isna()]\n",
    "    data['month']=data.ly_month\n",
    "    data['month']=data['month'].apply(int).apply(str)\n",
    "\n",
    "    data['month_year']=data['year']+\"-\"+data['month']\n",
    "    data.loc[:,['tar_wrongdoing', 'pe_approxnumber','pe_violence','tar_outcome']]=data.loc[:,['tar_wrongdoing', 'pe_approxnumber','pe_violence','tar_outcome']].fillna(-1)\n",
    "    data=data.groupby(['name_0', 'name_1','month_year','tar_wrongdoing', 'pe_approxnumber','pe_violence','tar_outcome']).id.count().reset_index()\n",
    "\n",
    "    month_year=data.loc[:,['month_year']].drop_duplicates().reset_index(drop=True)\n",
    "    regions=data.loc[:,['name_0','name_1']].drop_duplicates().reset_index(drop=True)\n",
    "    regions['tmp'] = 1\n",
    "    month_year['tmp'] = 1\n",
    "    df = pd.merge(regions, month_year, on=['tmp'])\n",
    "    df = df.drop('tmp', axis=1)\n",
    "    data=df.merge(data,on=['name_0','name_1','month_year'],how='left')\n",
    "    data['id']=data['id'].fillna(0)\n",
    "    data.loc[:,['tar_wrongdoing', 'pe_approxnumber','pe_violence','tar_outcome']]=data.loc[:,['tar_wrongdoing', 'pe_approxnumber','pe_violence','tar_outcome']].fillna(-1)\n",
    "    data.name_1=data.name_1.replace(\"Chimaltenullgo\",\"Chimaltenango\")\n",
    "    data.name_1=data.name_1.replace(\"Huehuetenullgo\",\"Huehuetenango\")\n",
    "    data.name_1=data.name_1.replace(\"Quetzaltenullgo\",\"Quetzaltenango\")\n",
    "\n",
    "    data=data.merge(population_admin,on=['name_0','name_1'],how='left')\n",
    "\n",
    "    ## data per million inhabitants\n",
    "    data['events_pop']=data['id']/(data['Population_mean']/1e6)\n",
    "\n",
    "    data=data.dropna()\n",
    "\n",
    "    data['month_year']=data['month_year'].apply(str)\n",
    "\n",
    "    data['month_year']=data['month_year']+\"-01\"\n",
    "    return data"
   ]
  },
  {
   "cell_type": "code",
   "execution_count": 3,
   "id": "d7baa25f",
   "metadata": {},
   "outputs": [
    {
     "name": "stderr",
     "output_type": "stream",
     "text": [
      "/home/feradauto/miniconda3/envs/scirex/lib/python3.7/site-packages/ipykernel_launcher.py:7: SettingWithCopyWarning: \n",
      "A value is trying to be set on a copy of a slice from a DataFrame.\n",
      "Try using .loc[row_indexer,col_indexer] = value instead\n",
      "\n",
      "See the caveats in the documentation: https://pandas.pydata.org/pandas-docs/stable/user_guide/indexing.html#returning-a-view-versus-a-copy\n",
      "  import sys\n",
      "/home/feradauto/miniconda3/envs/scirex/lib/python3.7/site-packages/ipykernel_launcher.py:8: SettingWithCopyWarning: \n",
      "A value is trying to be set on a copy of a slice from a DataFrame.\n",
      "Try using .loc[row_indexer,col_indexer] = value instead\n",
      "\n",
      "See the caveats in the documentation: https://pandas.pydata.org/pandas-docs/stable/user_guide/indexing.html#returning-a-view-versus-a-copy\n",
      "  \n",
      "/home/feradauto/miniconda3/envs/scirex/lib/python3.7/site-packages/ipykernel_launcher.py:10: SettingWithCopyWarning: \n",
      "A value is trying to be set on a copy of a slice from a DataFrame.\n",
      "Try using .loc[row_indexer,col_indexer] = value instead\n",
      "\n",
      "See the caveats in the documentation: https://pandas.pydata.org/pandas-docs/stable/user_guide/indexing.html#returning-a-view-versus-a-copy\n",
      "  # Remove the CWD from sys.path while we load stuff.\n",
      "/home/feradauto/miniconda3/envs/scirex/lib/python3.7/site-packages/pandas/core/indexing.py:1884: SettingWithCopyWarning: \n",
      "A value is trying to be set on a copy of a slice from a DataFrame.\n",
      "Try using .loc[row_indexer,col_indexer] = value instead\n",
      "\n",
      "See the caveats in the documentation: https://pandas.pydata.org/pandas-docs/stable/user_guide/indexing.html#returning-a-view-versus-a-copy\n",
      "  self._setitem_single_column(loc, val, pi)\n"
     ]
    }
   ],
   "source": [
    "def main():\n",
    "    data_path=\"./src/data/\"\n",
    "    data=pd.read_excel(data_path+\"LYLA 2022-9-21.xlsx\")\n",
    "    population=pd.read_csv(data_path+\"LatinAmerica_geo_variables_provinces.csv\",encoding='latin-1')\n",
    "    data=process_data(data,population)\n",
    "    data.to_json(data_path+\"data_agg.json\",orient='records')\n",
    "    \n",
    "    ## population country level\n",
    "    pop_name0=data.loc[:,['name_0','Population_mean']].drop_duplicates().groupby(['name_0']).Population_mean.sum().reset_index()\n",
    "    pop_name0=pop_name0.pivot_table(aggfunc=np.sum,columns='name_0')\n",
    "    pop_name0.to_json(data_path+\"population_admin0.json\",orient='records')\n",
    "    \n",
    "if __name__ == '__main__':\n",
    "    main()"
   ]
  },
  {
   "cell_type": "code",
   "execution_count": null,
   "id": "d08cc7f9",
   "metadata": {},
   "outputs": [],
   "source": []
  }
 ],
 "metadata": {
  "kernelspec": {
   "display_name": "Python 3 (ipykernel)",
   "language": "python",
   "name": "python3"
  },
  "language_info": {
   "codemirror_mode": {
    "name": "ipython",
    "version": 3
   },
   "file_extension": ".py",
   "mimetype": "text/x-python",
   "name": "python",
   "nbconvert_exporter": "python",
   "pygments_lexer": "ipython3",
   "version": "3.7.11"
  }
 },
 "nbformat": 4,
 "nbformat_minor": 5
}
