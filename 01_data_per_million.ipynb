{
 "cells": [
  {
   "cell_type": "markdown",
   "id": "0250ab8d",
   "metadata": {},
   "source": [
    "## Process population and reported cases files and gets data per million inhabitants\n",
    "- Files produced: \n",
    "- Cases per million inhabitants by variable and date\n",
    "- Population by country"
   ]
  },
  {
   "cell_type": "code",
   "execution_count": 1,
   "id": "7999ef9d",
   "metadata": {},
   "outputs": [],
   "source": [
    "import pandas as pd\n",
    "import numpy as np"
   ]
  },
  {
   "cell_type": "code",
   "execution_count": null,
   "id": "3c8b2351",
   "metadata": {},
   "outputs": [],
   "source": [
    "def process_data(data,population_admin):\n",
    "\n",
    "    population_admin=population.groupby(['NAME_0','NAME_1']).Population_mean.sum().reset_index().rename(columns={'NAME_0':'name_0','NAME_1':'name_1'})\n",
    "\n",
    "    data.date=pd.to_datetime(data.date)\n",
    "\n",
    "    data['year']=data.date.dt.year\n",
    "    data['month']=data.date.dt.month\n",
    "\n",
    "    data['month_year'] = data['date'].dt.to_period('M')\n",
    "\n",
    "    data=data.groupby(['name_0', 'name_1','month_year','tar_wrongdoing', 'pe_approxnumber','pe_violence','tar_outcome']).id.count().reset_index()\n",
    "\n",
    "    data.name_1=data.name_1.replace(\"Chimaltenullgo\",\"Chimaltenango\")\n",
    "    data.name_1=data.name_1.replace(\"Huehuetenullgo\",\"Huehuetenango\")\n",
    "    data.name_1=data.name_1.replace(\"Quetzaltenullgo\",\"Quetzaltenango\")\n",
    "\n",
    "    data=data.merge(population_admin,on=['name_0','name_1'],how='left')\n",
    "\n",
    "    ## data per million inhabitants\n",
    "    data['events_pop']=data['id']/(data['Population_mean']/1e6)\n",
    "\n",
    "    data=data.dropna()\n",
    "\n",
    "    data['month_year']=data['month_year'].apply(str)\n",
    "\n",
    "    data['month_year']=data['month_year']+\"-01\"\n",
    "    return data"
   ]
  },
  {
   "cell_type": "code",
   "execution_count": 5,
   "id": "d7baa25f",
   "metadata": {},
   "outputs": [
    {
     "data": {
      "text/plain": [
       "(3543, 14)"
      ]
     },
     "execution_count": 5,
     "metadata": {},
     "output_type": "execute_result"
    }
   ],
   "source": [
    "def main():\n",
    "    data_path=\"./src/data/\"\n",
    "    data=pd.read_json(data_path+\"json_data_complete_latin3.json\")\n",
    "    population=pd.read_csv(data_path+\"LatinAmerica_geo_variables_provinces.csv\",encoding='latin-1')\n",
    "    data=process_data(data,population_admin)\n",
    "    data.to_json(data_path+\"data_agg.json\",orient='records')\n",
    "    \n",
    "    ## population country level\n",
    "    pop_name0=data.loc[:,['name_0','Population_mean']].drop_duplicates().groupby(['name_0']).Population_mean.sum().reset_index()\n",
    "    pop_name0=pop_name0.pivot_table(aggfunc=np.sum,columns='name_0')\n",
    "    pop_name0.to_json(data_path+\"population_admin0.json\",orient='records')\n",
    "    \n",
    "if __name__ == '__main__':\n",
    "    main()"
   ]
  },
  {
   "cell_type": "code",
   "execution_count": null,
   "id": "955c72e0",
   "metadata": {},
   "outputs": [],
   "source": []
  }
 ],
 "metadata": {
  "kernelspec": {
   "display_name": "Python 3 (ipykernel)",
   "language": "python",
   "name": "python3"
  },
  "language_info": {
   "codemirror_mode": {
    "name": "ipython",
    "version": 3
   },
   "file_extension": ".py",
   "mimetype": "text/x-python",
   "name": "python",
   "nbconvert_exporter": "python",
   "pygments_lexer": "ipython3",
   "version": "3.7.11"
  }
 },
 "nbformat": 4,
 "nbformat_minor": 5
}
